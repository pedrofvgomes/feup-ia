{
 "cells": [
  {
   "cell_type": "markdown",
   "metadata": {},
   "source": [
    "# -PROJECT DESCRIPTION GOES HERE-"
   ]
  },
  {
   "cell_type": "markdown",
   "metadata": {
    "vscode": {
     "languageId": "plaintext"
    }
   },
   "source": [
    "# Importing Libraries\n",
    "\n",
    "The libraries used in this project need to be installed before running it (You'll need python and pip installed beforehand).\n",
    "To do so, run the following command in the project's root directory:\n",
    "\n",
    "<code>\n",
    "pip install -r requirements.txt\n",
    "</code>"
   ]
  },
  {
   "cell_type": "code",
   "execution_count": 5,
   "metadata": {},
   "outputs": [],
   "source": [
    "# import everything\n",
    "\n",
    "import pandas as pd"
   ]
  },
  {
   "cell_type": "markdown",
   "metadata": {},
   "source": [
    "# Create the dataframe, using pandas\n",
    "\n",
    "For this, we need to read the CSV file that was given to us in the project's example dataset."
   ]
  },
  {
   "cell_type": "code",
   "execution_count": 6,
   "metadata": {},
   "outputs": [
    {
     "data": {
      "text/html": [
       "<div>\n",
       "<style scoped>\n",
       "    .dataframe tbody tr th:only-of-type {\n",
       "        vertical-align: middle;\n",
       "    }\n",
       "\n",
       "    .dataframe tbody tr th {\n",
       "        vertical-align: top;\n",
       "    }\n",
       "\n",
       "    .dataframe thead th {\n",
       "        text-align: right;\n",
       "    }\n",
       "</style>\n",
       "<table border=\"1\" class=\"dataframe\">\n",
       "  <thead>\n",
       "    <tr style=\"text-align: right;\">\n",
       "      <th></th>\n",
       "      <th>pdfsize</th>\n",
       "      <th>pages</th>\n",
       "      <th>title characters</th>\n",
       "      <th>images</th>\n",
       "      <th>obj</th>\n",
       "      <th>endobj</th>\n",
       "      <th>stream</th>\n",
       "      <th>endstream</th>\n",
       "      <th>xref</th>\n",
       "      <th>trailer</th>\n",
       "      <th>...</th>\n",
       "      <th>ObjStm</th>\n",
       "      <th>JS</th>\n",
       "      <th>OBS_JS</th>\n",
       "      <th>Javascript</th>\n",
       "      <th>OBS_Javascript</th>\n",
       "      <th>OpenAction</th>\n",
       "      <th>OBS_OpenAction</th>\n",
       "      <th>Acroform</th>\n",
       "      <th>OBS_Acroform</th>\n",
       "      <th>class</th>\n",
       "    </tr>\n",
       "  </thead>\n",
       "  <tbody>\n",
       "    <tr>\n",
       "      <th>0</th>\n",
       "      <td>644.326</td>\n",
       "      <td>70</td>\n",
       "      <td>0</td>\n",
       "      <td>1</td>\n",
       "      <td>348</td>\n",
       "      <td>351</td>\n",
       "      <td>128</td>\n",
       "      <td>128</td>\n",
       "      <td>1</td>\n",
       "      <td>1</td>\n",
       "      <td>...</td>\n",
       "      <td>0</td>\n",
       "      <td>1</td>\n",
       "      <td>0</td>\n",
       "      <td>1</td>\n",
       "      <td>0</td>\n",
       "      <td>1</td>\n",
       "      <td>0</td>\n",
       "      <td>1</td>\n",
       "      <td>0</td>\n",
       "      <td>1</td>\n",
       "    </tr>\n",
       "    <tr>\n",
       "      <th>1</th>\n",
       "      <td>648.050</td>\n",
       "      <td>68</td>\n",
       "      <td>0</td>\n",
       "      <td>1</td>\n",
       "      <td>348</td>\n",
       "      <td>345</td>\n",
       "      <td>124</td>\n",
       "      <td>124</td>\n",
       "      <td>1</td>\n",
       "      <td>1</td>\n",
       "      <td>...</td>\n",
       "      <td>0</td>\n",
       "      <td>1</td>\n",
       "      <td>0</td>\n",
       "      <td>1</td>\n",
       "      <td>0</td>\n",
       "      <td>0</td>\n",
       "      <td>0</td>\n",
       "      <td>1</td>\n",
       "      <td>0</td>\n",
       "      <td>1</td>\n",
       "    </tr>\n",
       "    <tr>\n",
       "      <th>2</th>\n",
       "      <td>696.506</td>\n",
       "      <td>68</td>\n",
       "      <td>0</td>\n",
       "      <td>1</td>\n",
       "      <td>353</td>\n",
       "      <td>353</td>\n",
       "      <td>128</td>\n",
       "      <td>125</td>\n",
       "      <td>1</td>\n",
       "      <td>1</td>\n",
       "      <td>...</td>\n",
       "      <td>0</td>\n",
       "      <td>1</td>\n",
       "      <td>0</td>\n",
       "      <td>1</td>\n",
       "      <td>0</td>\n",
       "      <td>0</td>\n",
       "      <td>0</td>\n",
       "      <td>1</td>\n",
       "      <td>0</td>\n",
       "      <td>1</td>\n",
       "    </tr>\n",
       "  </tbody>\n",
       "</table>\n",
       "<p>3 rows × 21 columns</p>\n",
       "</div>"
      ],
      "text/plain": [
       "   pdfsize  pages  title characters  images  obj  endobj  stream  endstream  \\\n",
       "0  644.326     70                 0       1  348     351     128        128   \n",
       "1  648.050     68                 0       1  348     345     124        124   \n",
       "2  696.506     68                 0       1  353     353     128        125   \n",
       "\n",
       "   xref  trailer  ...  ObjStm  JS  OBS_JS  Javascript  OBS_Javascript  \\\n",
       "0     1        1  ...       0   1       0           1               0   \n",
       "1     1        1  ...       0   1       0           1               0   \n",
       "2     1        1  ...       0   1       0           1               0   \n",
       "\n",
       "   OpenAction  OBS_OpenAction  Acroform  OBS_Acroform  class  \n",
       "0           1               0         1             0      1  \n",
       "1           0               0         1             0      1  \n",
       "2           0               0         1             0      1  \n",
       "\n",
       "[3 rows x 21 columns]"
      ]
     },
     "execution_count": 6,
     "metadata": {},
     "output_type": "execute_result"
    }
   ],
   "source": [
    "# read the file and store it in the 'data' variable\n",
    "data = pd.read_csv('../data/data.csv')\n",
    "\n",
    "# output the header and the first 3 rows\n",
    "# we're not using print() because the output in jupyter can be done without it - and it's prettier!\n",
    "data.head(3)"
   ]
  }
 ],
 "metadata": {
  "kernelspec": {
   "display_name": "Python 3",
   "language": "python",
   "name": "python3"
  },
  "language_info": {
   "codemirror_mode": {
    "name": "ipython",
    "version": 3
   },
   "file_extension": ".py",
   "mimetype": "text/x-python",
   "name": "python",
   "nbconvert_exporter": "python",
   "pygments_lexer": "ipython3",
   "version": "3.11.2"
  }
 },
 "nbformat": 4,
 "nbformat_minor": 2
}
