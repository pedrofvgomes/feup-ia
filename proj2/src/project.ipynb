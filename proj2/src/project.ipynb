{
 "cells": [
  {
   "cell_type": "markdown",
   "metadata": {},
   "source": [
    "<img src=\"../img/logвtipo com cores oficiais.png\" style=\"background-color:white;\">\n",
    "\n",
    "# Evasive PDF Samples\n",
    "Project developed in the Artifial Intelligence course unit, in the second semester of the third year of the Bachelor's in Informatics and Computing Enginnering at FEUP.\n",
    "\n",
    "Pedro Gomes, up202108825\n",
    "<br>\n",
    "Simão Rodrigues, up202005700\n",
    "\n",
    "## Description\n",
    "This project focuses on enhancing malware detection in PDF files by addressing evasion attacks, which are attempts to bypass existing detection mechanisms.\n",
    "\n",
    "The dataset used consists of evasive PDF samples, labeled as either malicious (1) or benign (0).\n",
    "\n",
    "By using machine learning algorithms, this project's main objective is to develop a malware detector in PDF files, capable of resisting evasion attacks.\n",
    "We'll also test the results with other detectors, and evaluate the robustness of each algorithm in comparison with ours.\n",
    "\n",
    "## References\n",
    "1. https://www.kaggle.com/datasets/fouadtrad2/evasive-pdf-samples<br>\n",
    "This is where the dataset was downloaded from, and from which the initial understanding of the project was obtained, as well as the description of the dataset's columns.\n",
    "2. https://doi.org/10.3390/app13063472 - *Trad, F.; Hussein, A.; Chehab, A. Leveraging Adversarial Samples for Enhanced Classification of Malicious and Evasive PDF Files. Appl. Sci. 2023, 13, 3472.<br>*\n",
    "This is the paper cited by the reference above. It provides a thorough study of the problem and information about the different approaches that can be taken.\n",
    "\n",
    "## Importing Libraries\n",
    "\n",
    "The libraries used in this project need to be installed before running it (You'll need python and pip installed beforehand).\n",
    "\n",
    "To do so, run <code>pip install -r requirements.txt</code> in the project's root directory:\n",
    "\n",
    "These are then imported into the project in the following code block:"
   ]
  },
  {
   "cell_type": "code",
   "metadata": {
    "ExecuteTime": {
     "end_time": "2024-05-21T23:41:22.682053Z",
     "start_time": "2024-05-21T23:41:22.671700Z"
    }
   },
   "source": [
    "# import everything\n",
    "\n",
    "import pandas as pd"
   ],
   "outputs": [],
   "execution_count": 17
  },
  {
   "cell_type": "markdown",
   "metadata": {},
   "source": [
    "## Create the dataframe, using pandas\n",
    "\n",
    "For this, we need to read the CSV file that was given to us in the project's example dataset."
   ]
  },
  {
   "cell_type": "code",
   "metadata": {
    "ExecuteTime": {
     "end_time": "2024-05-21T23:41:23.140517Z",
     "start_time": "2024-05-21T23:41:22.684235Z"
    }
   },
   "source": [
    "# read the file and store it in the 'data' variable\n",
    "data = pd.read_csv('../data/data.csv')\n",
    "\n",
    "# output the header and the first 3 rows\n",
    "# we're not using print() because the output in jupyter can be done without it - and it's prettier!\n",
    "data.head(3)"
   ],
   "outputs": [
    {
     "data": {
      "text/plain": [
       "   pdfsize  pages  title characters  images  obj  endobj  stream  endstream  \\\n",
       "0  644.326     70                 0       1  348     351     128        128   \n",
       "1  648.050     68                 0       1  348     345     124        124   \n",
       "2  696.506     68                 0       1  353     353     128        125   \n",
       "\n",
       "   xref  trailer  ...  ObjStm  JS  OBS_JS  Javascript  OBS_Javascript  \\\n",
       "0     1        1  ...       0   1       0           1               0   \n",
       "1     1        1  ...       0   1       0           1               0   \n",
       "2     1        1  ...       0   1       0           1               0   \n",
       "\n",
       "   OpenAction  OBS_OpenAction  Acroform  OBS_Acroform  class  \n",
       "0           1               0         1             0      1  \n",
       "1           0               0         1             0      1  \n",
       "2           0               0         1             0      1  \n",
       "\n",
       "[3 rows x 21 columns]"
      ],
      "text/html": [
       "<div>\n",
       "<style scoped>\n",
       "    .dataframe tbody tr th:only-of-type {\n",
       "        vertical-align: middle;\n",
       "    }\n",
       "\n",
       "    .dataframe tbody tr th {\n",
       "        vertical-align: top;\n",
       "    }\n",
       "\n",
       "    .dataframe thead th {\n",
       "        text-align: right;\n",
       "    }\n",
       "</style>\n",
       "<table border=\"1\" class=\"dataframe\">\n",
       "  <thead>\n",
       "    <tr style=\"text-align: right;\">\n",
       "      <th></th>\n",
       "      <th>pdfsize</th>\n",
       "      <th>pages</th>\n",
       "      <th>title characters</th>\n",
       "      <th>images</th>\n",
       "      <th>obj</th>\n",
       "      <th>endobj</th>\n",
       "      <th>stream</th>\n",
       "      <th>endstream</th>\n",
       "      <th>xref</th>\n",
       "      <th>trailer</th>\n",
       "      <th>...</th>\n",
       "      <th>ObjStm</th>\n",
       "      <th>JS</th>\n",
       "      <th>OBS_JS</th>\n",
       "      <th>Javascript</th>\n",
       "      <th>OBS_Javascript</th>\n",
       "      <th>OpenAction</th>\n",
       "      <th>OBS_OpenAction</th>\n",
       "      <th>Acroform</th>\n",
       "      <th>OBS_Acroform</th>\n",
       "      <th>class</th>\n",
       "    </tr>\n",
       "  </thead>\n",
       "  <tbody>\n",
       "    <tr>\n",
       "      <th>0</th>\n",
       "      <td>644.326</td>\n",
       "      <td>70</td>\n",
       "      <td>0</td>\n",
       "      <td>1</td>\n",
       "      <td>348</td>\n",
       "      <td>351</td>\n",
       "      <td>128</td>\n",
       "      <td>128</td>\n",
       "      <td>1</td>\n",
       "      <td>1</td>\n",
       "      <td>...</td>\n",
       "      <td>0</td>\n",
       "      <td>1</td>\n",
       "      <td>0</td>\n",
       "      <td>1</td>\n",
       "      <td>0</td>\n",
       "      <td>1</td>\n",
       "      <td>0</td>\n",
       "      <td>1</td>\n",
       "      <td>0</td>\n",
       "      <td>1</td>\n",
       "    </tr>\n",
       "    <tr>\n",
       "      <th>1</th>\n",
       "      <td>648.050</td>\n",
       "      <td>68</td>\n",
       "      <td>0</td>\n",
       "      <td>1</td>\n",
       "      <td>348</td>\n",
       "      <td>345</td>\n",
       "      <td>124</td>\n",
       "      <td>124</td>\n",
       "      <td>1</td>\n",
       "      <td>1</td>\n",
       "      <td>...</td>\n",
       "      <td>0</td>\n",
       "      <td>1</td>\n",
       "      <td>0</td>\n",
       "      <td>1</td>\n",
       "      <td>0</td>\n",
       "      <td>0</td>\n",
       "      <td>0</td>\n",
       "      <td>1</td>\n",
       "      <td>0</td>\n",
       "      <td>1</td>\n",
       "    </tr>\n",
       "    <tr>\n",
       "      <th>2</th>\n",
       "      <td>696.506</td>\n",
       "      <td>68</td>\n",
       "      <td>0</td>\n",
       "      <td>1</td>\n",
       "      <td>353</td>\n",
       "      <td>353</td>\n",
       "      <td>128</td>\n",
       "      <td>125</td>\n",
       "      <td>1</td>\n",
       "      <td>1</td>\n",
       "      <td>...</td>\n",
       "      <td>0</td>\n",
       "      <td>1</td>\n",
       "      <td>0</td>\n",
       "      <td>1</td>\n",
       "      <td>0</td>\n",
       "      <td>0</td>\n",
       "      <td>0</td>\n",
       "      <td>1</td>\n",
       "      <td>0</td>\n",
       "      <td>1</td>\n",
       "    </tr>\n",
       "  </tbody>\n",
       "</table>\n",
       "<p>3 rows × 21 columns</p>\n",
       "</div>"
      ]
     },
     "execution_count": 18,
     "metadata": {},
     "output_type": "execute_result"
    }
   ],
   "execution_count": 18
  },
  {
   "cell_type": "markdown",
   "metadata": {},
   "source": [
    "## Dataset comprehension\n",
    "\n",
    "This dataset contains 21 columns, which can be seen in the Python code block below.\n",
    "Here's a description of them:\n",
    "* <u>**pdfsize**</u> - Size of the PDF file in megabytes (MB).\n",
    "* <u>**pages**</u> - Number of pages in the document.\n",
    "* <u>**title characters</u>** - Total number of characters in the document's title.\n",
    "* <u>**images**</u> - Number of images embedded within the document\n",
    "* <u>**obj**</u> - Number of keywords /obj\n",
    "* <u>**endobj**</u> - Number of keywords /endobj\n",
    "* <u>**stream**</u> - Number of keywords /stream\n",
    "* <u>**endstream**</u> - Number of keywords /endstream\n",
    "* <u>**xref**</u> - Number of xref tables\n",
    "* <u>**trailer**</u> - Number of keywords /trailer\n",
    "* <u>**startxref**</u> - Number of keywords /startxref\n",
    "* <u>**ObjStm**</u> - Number of keywords /Objstm (Object streams)\n",
    "* <u>**JS**</u> - Number of keywords /JS\n",
    "* <u>**OBS_JS**</u> - Number of keywords /JS (obfuscated)\n",
    "* <u>**Javascript**</u> - Number of keywords /Javascript\n",
    "* <u>**OBS_Javascript**</u> - Number of keywords /Javascript (obfuscated)\n",
    "* <u>**OpenAction**</u> - Number of keywords /OpenAction\n",
    "* <u>**OBS_OpenAction**</u> - Number of keywords /OpenAction (obfuscated)\n",
    "* <u>**Acroform**</u> - Number of keywords /Acroform\n",
    "* <u>**OBS_Acroform**</u> - Number of keywords /Acroform (obfuscated)\n",
    "* <u>**class**</u> - Binary classification of the PDF file - Benign (0) or malicious (1)"
   ]
  },
  {
   "cell_type": "code",
   "metadata": {
    "ExecuteTime": {
     "end_time": "2024-05-21T23:41:23.156159Z",
     "start_time": "2024-05-21T23:41:23.144534Z"
    }
   },
   "source": [
    "# print the number of columns\n",
    "print(f'{len(data.columns)} columns')\n",
    "\n",
    "# output the header and transpose it so that it's not collapsed\n",
    "data.head(0).transpose()"
   ],
   "outputs": [
    {
     "name": "stdout",
     "output_type": "stream",
     "text": [
      "21 columns\n"
     ]
    },
    {
     "data": {
      "text/plain": [
       "Empty DataFrame\n",
       "Columns: []\n",
       "Index: [pdfsize, pages, title characters, images, obj, endobj, stream, endstream, xref, trailer, startxref, ObjStm, JS, OBS_JS, Javascript, OBS_Javascript, OpenAction, OBS_OpenAction, Acroform, OBS_Acroform, class]"
      ],
      "text/html": [
       "<div>\n",
       "<style scoped>\n",
       "    .dataframe tbody tr th:only-of-type {\n",
       "        vertical-align: middle;\n",
       "    }\n",
       "\n",
       "    .dataframe tbody tr th {\n",
       "        vertical-align: top;\n",
       "    }\n",
       "\n",
       "    .dataframe thead th {\n",
       "        text-align: right;\n",
       "    }\n",
       "</style>\n",
       "<table border=\"1\" class=\"dataframe\">\n",
       "  <thead>\n",
       "    <tr style=\"text-align: right;\">\n",
       "      <th></th>\n",
       "    </tr>\n",
       "  </thead>\n",
       "  <tbody>\n",
       "    <tr>\n",
       "      <th>pdfsize</th>\n",
       "    </tr>\n",
       "    <tr>\n",
       "      <th>pages</th>\n",
       "    </tr>\n",
       "    <tr>\n",
       "      <th>title characters</th>\n",
       "    </tr>\n",
       "    <tr>\n",
       "      <th>images</th>\n",
       "    </tr>\n",
       "    <tr>\n",
       "      <th>obj</th>\n",
       "    </tr>\n",
       "    <tr>\n",
       "      <th>endobj</th>\n",
       "    </tr>\n",
       "    <tr>\n",
       "      <th>stream</th>\n",
       "    </tr>\n",
       "    <tr>\n",
       "      <th>endstream</th>\n",
       "    </tr>\n",
       "    <tr>\n",
       "      <th>xref</th>\n",
       "    </tr>\n",
       "    <tr>\n",
       "      <th>trailer</th>\n",
       "    </tr>\n",
       "    <tr>\n",
       "      <th>startxref</th>\n",
       "    </tr>\n",
       "    <tr>\n",
       "      <th>ObjStm</th>\n",
       "    </tr>\n",
       "    <tr>\n",
       "      <th>JS</th>\n",
       "    </tr>\n",
       "    <tr>\n",
       "      <th>OBS_JS</th>\n",
       "    </tr>\n",
       "    <tr>\n",
       "      <th>Javascript</th>\n",
       "    </tr>\n",
       "    <tr>\n",
       "      <th>OBS_Javascript</th>\n",
       "    </tr>\n",
       "    <tr>\n",
       "      <th>OpenAction</th>\n",
       "    </tr>\n",
       "    <tr>\n",
       "      <th>OBS_OpenAction</th>\n",
       "    </tr>\n",
       "    <tr>\n",
       "      <th>Acroform</th>\n",
       "    </tr>\n",
       "    <tr>\n",
       "      <th>OBS_Acroform</th>\n",
       "    </tr>\n",
       "    <tr>\n",
       "      <th>class</th>\n",
       "    </tr>\n",
       "  </tbody>\n",
       "</table>\n",
       "</div>"
      ]
     },
     "execution_count": 19,
     "metadata": {},
     "output_type": "execute_result"
    }
   ],
   "execution_count": 19
  },
  {
   "metadata": {},
   "cell_type": "markdown",
   "source": [
    "## Exploratory Data Analysis (EDA)\n",
    "\n",
    "Quick look at data characteristics and patterns."
   ]
  },
  {
   "metadata": {
    "ExecuteTime": {
     "end_time": "2024-05-21T23:41:23.407192Z",
     "start_time": "2024-05-21T23:41:23.158402Z"
    }
   },
   "cell_type": "code",
   "source": [
    "# Summarizes data points\n",
    "data.describe()"
   ],
   "outputs": [
    {
     "data": {
      "text/plain": [
       "             pdfsize          pages  title characters         images  \\\n",
       "count  500000.000000  500000.000000     500000.000000  500000.000000   \n",
       "mean      563.363772      55.101686          5.617004       1.041594   \n",
       "std       280.213763      30.233062          6.501397       0.734654   \n",
       "min         0.000000       0.000000          0.000000       0.000000   \n",
       "25%       585.864250      67.000000          0.000000       1.000000   \n",
       "50%       657.841000      68.000000          4.000000       1.000000   \n",
       "75%       708.503250      69.000000          9.000000       2.000000   \n",
       "max      1761.042000     287.000000        267.000000      18.000000   \n",
       "\n",
       "                 obj         endobj         stream      endstream  \\\n",
       "count  500000.000000  500000.000000  500000.000000  500000.000000   \n",
       "mean      273.595072     273.472290      95.115512      95.331500   \n",
       "std       142.333280     142.734185      51.683914      52.094421   \n",
       "min         0.000000       0.000000       0.000000       0.000000   \n",
       "25%       266.000000     266.000000      85.000000      87.000000   \n",
       "50%       346.000000     345.000000     123.000000     122.000000   \n",
       "75%       355.000000     354.000000     126.000000     126.000000   \n",
       "max       760.000000     760.000000     254.000000     254.000000   \n",
       "\n",
       "                xref        trailer  ...         ObjStm             JS  \\\n",
       "count  500000.000000  500000.000000  ...  500000.000000  500000.000000   \n",
       "mean        0.969714       1.001358  ...       0.008572       0.873134   \n",
       "std         0.263349       0.244811  ...       0.198168       0.547981   \n",
       "min         0.000000       0.000000  ...       0.000000       0.000000   \n",
       "25%         1.000000       1.000000  ...       0.000000       1.000000   \n",
       "50%         1.000000       1.000000  ...       0.000000       1.000000   \n",
       "75%         1.000000       1.000000  ...       0.000000       1.000000   \n",
       "max         3.000000       3.000000  ...      15.000000       3.000000   \n",
       "\n",
       "         OBS_JS     Javascript  OBS_Javascript     OpenAction  OBS_OpenAction  \\\n",
       "count  500000.0  500000.000000        500000.0  500000.000000        500000.0   \n",
       "mean        0.0       0.795662             0.0       0.436600             0.0   \n",
       "std         0.0       0.416932             0.0       0.495965             0.0   \n",
       "min         0.0       0.000000             0.0       0.000000             0.0   \n",
       "25%         0.0       1.000000             0.0       0.000000             0.0   \n",
       "50%         0.0       1.000000             0.0       0.000000             0.0   \n",
       "75%         0.0       1.000000             0.0       1.000000             0.0   \n",
       "max         0.0       5.000000             0.0       1.000000             0.0   \n",
       "\n",
       "            Acroform  OBS_Acroform     class  \n",
       "count  500000.000000      500000.0  500000.0  \n",
       "mean        0.887564           0.0       0.9  \n",
       "std         0.519314           0.0       0.3  \n",
       "min         0.000000           0.0       0.0  \n",
       "25%         1.000000           0.0       1.0  \n",
       "50%         1.000000           0.0       1.0  \n",
       "75%         1.000000           0.0       1.0  \n",
       "max         2.000000           0.0       1.0  \n",
       "\n",
       "[8 rows x 21 columns]"
      ],
      "text/html": [
       "<div>\n",
       "<style scoped>\n",
       "    .dataframe tbody tr th:only-of-type {\n",
       "        vertical-align: middle;\n",
       "    }\n",
       "\n",
       "    .dataframe tbody tr th {\n",
       "        vertical-align: top;\n",
       "    }\n",
       "\n",
       "    .dataframe thead th {\n",
       "        text-align: right;\n",
       "    }\n",
       "</style>\n",
       "<table border=\"1\" class=\"dataframe\">\n",
       "  <thead>\n",
       "    <tr style=\"text-align: right;\">\n",
       "      <th></th>\n",
       "      <th>pdfsize</th>\n",
       "      <th>pages</th>\n",
       "      <th>title characters</th>\n",
       "      <th>images</th>\n",
       "      <th>obj</th>\n",
       "      <th>endobj</th>\n",
       "      <th>stream</th>\n",
       "      <th>endstream</th>\n",
       "      <th>xref</th>\n",
       "      <th>trailer</th>\n",
       "      <th>...</th>\n",
       "      <th>ObjStm</th>\n",
       "      <th>JS</th>\n",
       "      <th>OBS_JS</th>\n",
       "      <th>Javascript</th>\n",
       "      <th>OBS_Javascript</th>\n",
       "      <th>OpenAction</th>\n",
       "      <th>OBS_OpenAction</th>\n",
       "      <th>Acroform</th>\n",
       "      <th>OBS_Acroform</th>\n",
       "      <th>class</th>\n",
       "    </tr>\n",
       "  </thead>\n",
       "  <tbody>\n",
       "    <tr>\n",
       "      <th>count</th>\n",
       "      <td>500000.000000</td>\n",
       "      <td>500000.000000</td>\n",
       "      <td>500000.000000</td>\n",
       "      <td>500000.000000</td>\n",
       "      <td>500000.000000</td>\n",
       "      <td>500000.000000</td>\n",
       "      <td>500000.000000</td>\n",
       "      <td>500000.000000</td>\n",
       "      <td>500000.000000</td>\n",
       "      <td>500000.000000</td>\n",
       "      <td>...</td>\n",
       "      <td>500000.000000</td>\n",
       "      <td>500000.000000</td>\n",
       "      <td>500000.0</td>\n",
       "      <td>500000.000000</td>\n",
       "      <td>500000.0</td>\n",
       "      <td>500000.000000</td>\n",
       "      <td>500000.0</td>\n",
       "      <td>500000.000000</td>\n",
       "      <td>500000.0</td>\n",
       "      <td>500000.0</td>\n",
       "    </tr>\n",
       "    <tr>\n",
       "      <th>mean</th>\n",
       "      <td>563.363772</td>\n",
       "      <td>55.101686</td>\n",
       "      <td>5.617004</td>\n",
       "      <td>1.041594</td>\n",
       "      <td>273.595072</td>\n",
       "      <td>273.472290</td>\n",
       "      <td>95.115512</td>\n",
       "      <td>95.331500</td>\n",
       "      <td>0.969714</td>\n",
       "      <td>1.001358</td>\n",
       "      <td>...</td>\n",
       "      <td>0.008572</td>\n",
       "      <td>0.873134</td>\n",
       "      <td>0.0</td>\n",
       "      <td>0.795662</td>\n",
       "      <td>0.0</td>\n",
       "      <td>0.436600</td>\n",
       "      <td>0.0</td>\n",
       "      <td>0.887564</td>\n",
       "      <td>0.0</td>\n",
       "      <td>0.9</td>\n",
       "    </tr>\n",
       "    <tr>\n",
       "      <th>std</th>\n",
       "      <td>280.213763</td>\n",
       "      <td>30.233062</td>\n",
       "      <td>6.501397</td>\n",
       "      <td>0.734654</td>\n",
       "      <td>142.333280</td>\n",
       "      <td>142.734185</td>\n",
       "      <td>51.683914</td>\n",
       "      <td>52.094421</td>\n",
       "      <td>0.263349</td>\n",
       "      <td>0.244811</td>\n",
       "      <td>...</td>\n",
       "      <td>0.198168</td>\n",
       "      <td>0.547981</td>\n",
       "      <td>0.0</td>\n",
       "      <td>0.416932</td>\n",
       "      <td>0.0</td>\n",
       "      <td>0.495965</td>\n",
       "      <td>0.0</td>\n",
       "      <td>0.519314</td>\n",
       "      <td>0.0</td>\n",
       "      <td>0.3</td>\n",
       "    </tr>\n",
       "    <tr>\n",
       "      <th>min</th>\n",
       "      <td>0.000000</td>\n",
       "      <td>0.000000</td>\n",
       "      <td>0.000000</td>\n",
       "      <td>0.000000</td>\n",
       "      <td>0.000000</td>\n",
       "      <td>0.000000</td>\n",
       "      <td>0.000000</td>\n",
       "      <td>0.000000</td>\n",
       "      <td>0.000000</td>\n",
       "      <td>0.000000</td>\n",
       "      <td>...</td>\n",
       "      <td>0.000000</td>\n",
       "      <td>0.000000</td>\n",
       "      <td>0.0</td>\n",
       "      <td>0.000000</td>\n",
       "      <td>0.0</td>\n",
       "      <td>0.000000</td>\n",
       "      <td>0.0</td>\n",
       "      <td>0.000000</td>\n",
       "      <td>0.0</td>\n",
       "      <td>0.0</td>\n",
       "    </tr>\n",
       "    <tr>\n",
       "      <th>25%</th>\n",
       "      <td>585.864250</td>\n",
       "      <td>67.000000</td>\n",
       "      <td>0.000000</td>\n",
       "      <td>1.000000</td>\n",
       "      <td>266.000000</td>\n",
       "      <td>266.000000</td>\n",
       "      <td>85.000000</td>\n",
       "      <td>87.000000</td>\n",
       "      <td>1.000000</td>\n",
       "      <td>1.000000</td>\n",
       "      <td>...</td>\n",
       "      <td>0.000000</td>\n",
       "      <td>1.000000</td>\n",
       "      <td>0.0</td>\n",
       "      <td>1.000000</td>\n",
       "      <td>0.0</td>\n",
       "      <td>0.000000</td>\n",
       "      <td>0.0</td>\n",
       "      <td>1.000000</td>\n",
       "      <td>0.0</td>\n",
       "      <td>1.0</td>\n",
       "    </tr>\n",
       "    <tr>\n",
       "      <th>50%</th>\n",
       "      <td>657.841000</td>\n",
       "      <td>68.000000</td>\n",
       "      <td>4.000000</td>\n",
       "      <td>1.000000</td>\n",
       "      <td>346.000000</td>\n",
       "      <td>345.000000</td>\n",
       "      <td>123.000000</td>\n",
       "      <td>122.000000</td>\n",
       "      <td>1.000000</td>\n",
       "      <td>1.000000</td>\n",
       "      <td>...</td>\n",
       "      <td>0.000000</td>\n",
       "      <td>1.000000</td>\n",
       "      <td>0.0</td>\n",
       "      <td>1.000000</td>\n",
       "      <td>0.0</td>\n",
       "      <td>0.000000</td>\n",
       "      <td>0.0</td>\n",
       "      <td>1.000000</td>\n",
       "      <td>0.0</td>\n",
       "      <td>1.0</td>\n",
       "    </tr>\n",
       "    <tr>\n",
       "      <th>75%</th>\n",
       "      <td>708.503250</td>\n",
       "      <td>69.000000</td>\n",
       "      <td>9.000000</td>\n",
       "      <td>2.000000</td>\n",
       "      <td>355.000000</td>\n",
       "      <td>354.000000</td>\n",
       "      <td>126.000000</td>\n",
       "      <td>126.000000</td>\n",
       "      <td>1.000000</td>\n",
       "      <td>1.000000</td>\n",
       "      <td>...</td>\n",
       "      <td>0.000000</td>\n",
       "      <td>1.000000</td>\n",
       "      <td>0.0</td>\n",
       "      <td>1.000000</td>\n",
       "      <td>0.0</td>\n",
       "      <td>1.000000</td>\n",
       "      <td>0.0</td>\n",
       "      <td>1.000000</td>\n",
       "      <td>0.0</td>\n",
       "      <td>1.0</td>\n",
       "    </tr>\n",
       "    <tr>\n",
       "      <th>max</th>\n",
       "      <td>1761.042000</td>\n",
       "      <td>287.000000</td>\n",
       "      <td>267.000000</td>\n",
       "      <td>18.000000</td>\n",
       "      <td>760.000000</td>\n",
       "      <td>760.000000</td>\n",
       "      <td>254.000000</td>\n",
       "      <td>254.000000</td>\n",
       "      <td>3.000000</td>\n",
       "      <td>3.000000</td>\n",
       "      <td>...</td>\n",
       "      <td>15.000000</td>\n",
       "      <td>3.000000</td>\n",
       "      <td>0.0</td>\n",
       "      <td>5.000000</td>\n",
       "      <td>0.0</td>\n",
       "      <td>1.000000</td>\n",
       "      <td>0.0</td>\n",
       "      <td>2.000000</td>\n",
       "      <td>0.0</td>\n",
       "      <td>1.0</td>\n",
       "    </tr>\n",
       "  </tbody>\n",
       "</table>\n",
       "<p>8 rows × 21 columns</p>\n",
       "</div>"
      ]
     },
     "execution_count": 20,
     "metadata": {},
     "output_type": "execute_result"
    }
   ],
   "execution_count": 20
  },
  {
   "metadata": {
    "ExecuteTime": {
     "end_time": "2024-05-21T23:41:23.427439Z",
     "start_time": "2024-05-21T23:41:23.409209Z"
    }
   },
   "cell_type": "code",
   "source": [
    "# Checks for any missing data in columns.\n",
    "data.isnull().sum()"
   ],
   "outputs": [
    {
     "data": {
      "text/plain": [
       "pdfsize             0\n",
       "pages               0\n",
       "title characters    0\n",
       "images              0\n",
       "obj                 0\n",
       "endobj              0\n",
       "stream              0\n",
       "endstream           0\n",
       "xref                0\n",
       "trailer             0\n",
       "startxref           0\n",
       "ObjStm              0\n",
       "JS                  0\n",
       "OBS_JS              0\n",
       "Javascript          0\n",
       "OBS_Javascript      0\n",
       "OpenAction          0\n",
       "OBS_OpenAction      0\n",
       "Acroform            0\n",
       "OBS_Acroform        0\n",
       "class               0\n",
       "dtype: int64"
      ]
     },
     "execution_count": 21,
     "metadata": {},
     "output_type": "execute_result"
    }
   ],
   "execution_count": 21
  },
  {
   "metadata": {
    "ExecuteTime": {
     "end_time": "2024-05-21T23:41:27.362526Z",
     "start_time": "2024-05-21T23:41:23.428448Z"
    }
   },
   "cell_type": "code",
   "source": [
    "# Importing visualization libraries\n",
    "import seaborn as sns\n",
    "import matplotlib.pyplot as plt\n",
    "\n",
    "# Visualize the distribution of 'pdfsize'.\n",
    "sns.histplot(data['pdfsize'], kde=True)\n",
    "plt.show()\n",
    "\n",
    "# Compare 'pdfsize' across different 'class' values.\n",
    "sns.boxplot(x='class', y='pdfsize', data=data)\n",
    "plt.show()"
   ],
   "outputs": [
    {
     "name": "stderr",
     "output_type": "stream",
     "text": [
      "C:\\Users\\qrodr\\anaconda3\\Lib\\site-packages\\seaborn\\_oldcore.py:1119: FutureWarning: use_inf_as_na option is deprecated and will be removed in a future version. Convert inf values to NaN before operating instead.\n",
      "  with pd.option_context('mode.use_inf_as_na', True):\n"
     ]
    },
    {
     "data": {
      "text/plain": [
       "<Figure size 640x480 with 1 Axes>"
      ],
      "image/png": "[encoded data removed]"
     },
     "metadata": {},
     "output_type": "display_data"
    },
    {
     "data": {
      "text/plain": [
       "<Figure size 640x480 with 1 Axes>"
      ],
      "image/png": "[encoded data removed]"
     },
     "metadata": {},
     "output_type": "display_data"
    }
   ],
   "execution_count": 22
  },
  {
   "metadata": {},
   "cell_type": "markdown",
   "source": [
    "## Data Normalization\n",
    "\n",
    "Normalize features to ensure consistent scale across dimensions for model training."
   ]
  },
  {
   "metadata": {
    "ExecuteTime": {
     "end_time": "2024-05-21T23:41:27.668496Z",
     "start_time": "2024-05-21T23:41:27.365541Z"
    }
   },
   "cell_type": "code",
   "source": [
    "from sklearn.preprocessing import StandardScaler\n",
    "\n",
    "scaler = StandardScaler()\n",
    "\n",
    "# Define features to scale, excluding the target 'class'\n",
    "features = data.columns.drop('class')\n",
    "data[features] = scaler.fit_transform(data[features])\n",
    "\n",
    "data.head()"
   ],
   "outputs": [
    {
     "data": {
      "text/plain": [
       "    pdfsize     pages  title characters    images       obj    endobj  \\\n",
       "0  0.288931  0.492783         -0.863970 -0.056617  0.522752  0.543162   \n",
       "1  0.302220  0.426630         -0.863970 -0.056617  0.522752  0.501126   \n",
       "2  0.475146  0.426630         -0.863970 -0.056617  0.557881  0.557174   \n",
       "3  0.544450  0.426630         -0.863970 -1.417803  3.410344  2.757070   \n",
       "4  0.512960  0.492783          0.674163  1.304569  0.803783  0.697295   \n",
       "\n",
       "     stream  endstream      xref   trailer  ...    ObjStm        JS  OBS_JS  \\\n",
       "0  0.636262   0.627102  0.115003 -0.005547  ... -0.043256  0.231515     0.0   \n",
       "1  0.558869   0.550319  0.115003 -0.005547  ... -0.043256  0.231515     0.0   \n",
       "2  0.636262   0.569515  0.115003 -0.005547  ... -0.043256  0.231515     0.0   \n",
       "3  2.996767   1.855642  0.115003 -0.005547  ... -0.043256  0.231515     0.0   \n",
       "4  0.887791   0.819062  0.115003 -0.005547  ... -0.043256  0.231515     0.0   \n",
       "\n",
       "   Javascript  OBS_Javascript  OpenAction  OBS_OpenAction  Acroform  \\\n",
       "0      0.4901             0.0    1.135969             0.0  0.216509   \n",
       "1      0.4901             0.0   -0.880306             0.0  0.216509   \n",
       "2      0.4901             0.0   -0.880306             0.0  0.216509   \n",
       "3      0.4901             0.0    1.135969             0.0  0.216509   \n",
       "4      0.4901             0.0    1.135969             0.0  0.216509   \n",
       "\n",
       "   OBS_Acroform  class  \n",
       "0           0.0      1  \n",
       "1           0.0      1  \n",
       "2           0.0      1  \n",
       "3           0.0      1  \n",
       "4           0.0      1  \n",
       "\n",
       "[5 rows x 21 columns]"
      ],
      "text/html": [
       "<div>\n",
       "<style scoped>\n",
       "    .dataframe tbody tr th:only-of-type {\n",
       "        vertical-align: middle;\n",
       "    }\n",
       "\n",
       "    .dataframe tbody tr th {\n",
       "        vertical-align: top;\n",
       "    }\n",
       "\n",
       "    .dataframe thead th {\n",
       "        text-align: right;\n",
       "    }\n",
       "</style>\n",
       "<table border=\"1\" class=\"dataframe\">\n",
       "  <thead>\n",
       "    <tr style=\"text-align: right;\">\n",
       "      <th></th>\n",
       "      <th>pdfsize</th>\n",
       "      <th>pages</th>\n",
       "      <th>title characters</th>\n",
       "      <th>images</th>\n",
       "      <th>obj</th>\n",
       "      <th>endobj</th>\n",
       "      <th>stream</th>\n",
       "      <th>endstream</th>\n",
       "      <th>xref</th>\n",
       "      <th>trailer</th>\n",
       "      <th>...</th>\n",
       "      <th>ObjStm</th>\n",
       "      <th>JS</th>\n",
       "      <th>OBS_JS</th>\n",
       "      <th>Javascript</th>\n",
       "      <th>OBS_Javascript</th>\n",
       "      <th>OpenAction</th>\n",
       "      <th>OBS_OpenAction</th>\n",
       "      <th>Acroform</th>\n",
       "      <th>OBS_Acroform</th>\n",
       "      <th>class</th>\n",
       "    </tr>\n",
       "  </thead>\n",
       "  <tbody>\n",
       "    <tr>\n",
       "      <th>0</th>\n",
       "      <td>0.288931</td>\n",
       "      <td>0.492783</td>\n",
       "      <td>-0.863970</td>\n",
       "      <td>-0.056617</td>\n",
       "      <td>0.522752</td>\n",
       "      <td>0.543162</td>\n",
       "      <td>0.636262</td>\n",
       "      <td>0.627102</td>\n",
       "      <td>0.115003</td>\n",
       "      <td>-0.005547</td>\n",
       "      <td>...</td>\n",
       "      <td>-0.043256</td>\n",
       "      <td>0.231515</td>\n",
       "      <td>0.0</td>\n",
       "      <td>0.4901</td>\n",
       "      <td>0.0</td>\n",
       "      <td>1.135969</td>\n",
       "      <td>0.0</td>\n",
       "      <td>0.216509</td>\n",
       "      <td>0.0</td>\n",
       "      <td>1</td>\n",
       "    </tr>\n",
       "    <tr>\n",
       "      <th>1</th>\n",
       "      <td>0.302220</td>\n",
       "      <td>0.426630</td>\n",
       "      <td>-0.863970</td>\n",
       "      <td>-0.056617</td>\n",
       "      <td>0.522752</td>\n",
       "      <td>0.501126</td>\n",
       "      <td>0.558869</td>\n",
       "      <td>0.550319</td>\n",
       "      <td>0.115003</td>\n",
       "      <td>-0.005547</td>\n",
       "      <td>...</td>\n",
       "      <td>-0.043256</td>\n",
       "      <td>0.231515</td>\n",
       "      <td>0.0</td>\n",
       "      <td>0.4901</td>\n",
       "      <td>0.0</td>\n",
       "      <td>-0.880306</td>\n",
       "      <td>0.0</td>\n",
       "      <td>0.216509</td>\n",
       "      <td>0.0</td>\n",
       "      <td>1</td>\n",
       "    </tr>\n",
       "    <tr>\n",
       "      <th>2</th>\n",
       "      <td>0.475146</td>\n",
       "      <td>0.426630</td>\n",
       "      <td>-0.863970</td>\n",
       "      <td>-0.056617</td>\n",
       "      <td>0.557881</td>\n",
       "      <td>0.557174</td>\n",
       "      <td>0.636262</td>\n",
       "      <td>0.569515</td>\n",
       "      <td>0.115003</td>\n",
       "      <td>-0.005547</td>\n",
       "      <td>...</td>\n",
       "      <td>-0.043256</td>\n",
       "      <td>0.231515</td>\n",
       "      <td>0.0</td>\n",
       "      <td>0.4901</td>\n",
       "      <td>0.0</td>\n",
       "      <td>-0.880306</td>\n",
       "      <td>0.0</td>\n",
       "      <td>0.216509</td>\n",
       "      <td>0.0</td>\n",
       "      <td>1</td>\n",
       "    </tr>\n",
       "    <tr>\n",
       "      <th>3</th>\n",
       "      <td>0.544450</td>\n",
       "      <td>0.426630</td>\n",
       "      <td>-0.863970</td>\n",
       "      <td>-1.417803</td>\n",
       "      <td>3.410344</td>\n",
       "      <td>2.757070</td>\n",
       "      <td>2.996767</td>\n",
       "      <td>1.855642</td>\n",
       "      <td>0.115003</td>\n",
       "      <td>-0.005547</td>\n",
       "      <td>...</td>\n",
       "      <td>-0.043256</td>\n",
       "      <td>0.231515</td>\n",
       "      <td>0.0</td>\n",
       "      <td>0.4901</td>\n",
       "      <td>0.0</td>\n",
       "      <td>1.135969</td>\n",
       "      <td>0.0</td>\n",
       "      <td>0.216509</td>\n",
       "      <td>0.0</td>\n",
       "      <td>1</td>\n",
       "    </tr>\n",
       "    <tr>\n",
       "      <th>4</th>\n",
       "      <td>0.512960</td>\n",
       "      <td>0.492783</td>\n",
       "      <td>0.674163</td>\n",
       "      <td>1.304569</td>\n",
       "      <td>0.803783</td>\n",
       "      <td>0.697295</td>\n",
       "      <td>0.887791</td>\n",
       "      <td>0.819062</td>\n",
       "      <td>0.115003</td>\n",
       "      <td>-0.005547</td>\n",
       "      <td>...</td>\n",
       "      <td>-0.043256</td>\n",
       "      <td>0.231515</td>\n",
       "      <td>0.0</td>\n",
       "      <td>0.4901</td>\n",
       "      <td>0.0</td>\n",
       "      <td>1.135969</td>\n",
       "      <td>0.0</td>\n",
       "      <td>0.216509</td>\n",
       "      <td>0.0</td>\n",
       "      <td>1</td>\n",
       "    </tr>\n",
       "  </tbody>\n",
       "</table>\n",
       "<p>5 rows × 21 columns</p>\n",
       "</div>"
      ]
     },
     "execution_count": 23,
     "metadata": {},
     "output_type": "execute_result"
    }
   ],
   "execution_count": 23
  },
  {
   "metadata": {},
   "cell_type": "markdown",
   "source": [
    "## Data Splitting\n",
    "\n",
    "Split the dataset into training and test sets to prepare for model validation."
   ]
  },
  {
   "metadata": {
    "ExecuteTime": {
     "end_time": "2024-05-21T23:41:28.022623Z",
     "start_time": "2024-05-21T23:41:27.670653Z"
    }
   },
   "cell_type": "code",
   "source": [
    "from sklearn.model_selection import train_test_split\n",
    "\n",
    "# Define features and target\n",
    "X = data.drop('class', axis=1)\n",
    "y = data['class']\n",
    "\n",
    "# Split the data into training and test sets\n",
    "X_train, X_test, y_train, y_test = train_test_split(X, y, test_size=0.2, random_state=42)\n",
    "\n",
    "# Verify the shape of the train and test sets.\n",
    "print(\"Training set shape:\", X_train.shape)\n",
    "print(\"Test set shape:\", X_test.shape)"
   ],
   "outputs": [
    {
     "name": "stdout",
     "output_type": "stream",
     "text": [
      "Training set shape: (400000, 20)\n",
      "Test set shape: (100000, 20)\n"
     ]
    }
   ],
   "execution_count": 24
  },
  {
   "metadata": {},
   "cell_type": "markdown",
   "source": "## Model Training and Evaluation"
  },
  {
   "metadata": {
    "ExecuteTime": {
     "end_time": "2024-05-21T23:47:01.242816Z",
     "start_time": "2024-05-21T23:47:01.237749Z"
    }
   },
   "cell_type": "code",
   "source": "from sklearn.metrics import classification_report, confusion_matrix, accuracy_score",
   "outputs": [],
   "execution_count": 34
  },
  {
   "metadata": {},
   "cell_type": "markdown",
   "source": "### Decision Tree"
  },
  {
   "metadata": {
    "ExecuteTime": {
     "end_time": "2024-05-21T23:41:29.858842Z",
     "start_time": "2024-05-21T23:41:28.023637Z"
    }
   },
   "cell_type": "code",
   "source": [
    "from sklearn.tree import DecisionTreeClassifier\n",
    "\n",
    "# Initialising and training the model\n",
    "dt_model = DecisionTreeClassifier()\n",
    "dt_model.fit(X_train, y_train)"
   ],
   "outputs": [
    {
     "data": {
      "text/plain": [
       "DecisionTreeClassifier()"
      ],
      "text/html": [
       "<style>#sk-container-id-5 {color: black;background-color: white;}#sk-container-id-5 pre{padding: 0;}#sk-container-id-5 div.sk-toggleable {background-color: white;}#sk-container-id-5 label.sk-toggleable__label {cursor: pointer;display: block;width: 100%;margin-bottom: 0;padding: 0.3em;box-sizing: border-box;text-align: center;}#sk-container-id-5 label.sk-toggleable__label-arrow:before {content: \"▸\";float: left;margin-right: 0.25em;color: #696969;}#sk-container-id-5 label.sk-toggleable__label-arrow:hover:before {color: black;}#sk-container-id-5 div.sk-estimator:hover label.sk-toggleable__label-arrow:before {color: black;}#sk-container-id-5 div.sk-toggleable__content {max-height: 0;max-width: 0;overflow: hidden;text-align: left;background-color: #f0f8ff;}#sk-container-id-5 div.sk-toggleable__content pre {margin: 0.2em;color: black;border-radius: 0.25em;background-color: #f0f8ff;}#sk-container-id-5 input.sk-toggleable__control:checked~div.sk-toggleable__content {max-height: 200px;max-width: 100%;overflow: auto;}#sk-container-id-5 input.sk-toggleable__control:checked~label.sk-toggleable__label-arrow:before {content: \"▾\";}#sk-container-id-5 div.sk-estimator input.sk-toggleable__control:checked~label.sk-toggleable__label {background-color: #d4ebff;}#sk-container-id-5 div.sk-label input.sk-toggleable__control:checked~label.sk-toggleable__label {background-color: #d4ebff;}#sk-container-id-5 input.sk-hidden--visually {border: 0;clip: rect(1px 1px 1px 1px);clip: rect(1px, 1px, 1px, 1px);height: 1px;margin: -1px;overflow: hidden;padding: 0;position: absolute;width: 1px;}#sk-container-id-5 div.sk-estimator {font-family: monospace;background-color: #f0f8ff;border: 1px dotted black;border-radius: 0.25em;box-sizing: border-box;margin-bottom: 0.5em;}#sk-container-id-5 div.sk-estimator:hover {background-color: #d4ebff;}#sk-container-id-5 div.sk-parallel-item::after {content: \"\";width: 100%;border-bottom: 1px solid gray;flex-grow: 1;}#sk-container-id-5 div.sk-label:hover label.sk-toggleable__label {background-color: #d4ebff;}#sk-container-id-5 div.sk-serial::before {content: \"\";position: absolute;border-left: 1px solid gray;box-sizing: border-box;top: 0;bottom: 0;left: 50%;z-index: 0;}#sk-container-id-5 div.sk-serial {display: flex;flex-direction: column;align-items: center;background-color: white;padding-right: 0.2em;padding-left: 0.2em;position: relative;}#sk-container-id-5 div.sk-item {position: relative;z-index: 1;}#sk-container-id-5 div.sk-parallel {display: flex;align-items: stretch;justify-content: center;background-color: white;position: relative;}#sk-container-id-5 div.sk-item::before, #sk-container-id-5 div.sk-parallel-item::before {content: \"\";position: absolute;border-left: 1px solid gray;box-sizing: border-box;top: 0;bottom: 0;left: 50%;z-index: -1;}#sk-container-id-5 div.sk-parallel-item {display: flex;flex-direction: column;z-index: 1;position: relative;background-color: white;}#sk-container-id-5 div.sk-parallel-item:first-child::after {align-self: flex-end;width: 50%;}#sk-container-id-5 div.sk-parallel-item:last-child::after {align-self: flex-start;width: 50%;}#sk-container-id-5 div.sk-parallel-item:only-child::after {width: 0;}#sk-container-id-5 div.sk-dashed-wrapped {border: 1px dashed gray;margin: 0 0.4em 0.5em 0.4em;box-sizing: border-box;padding-bottom: 0.4em;background-color: white;}#sk-container-id-5 div.sk-label label {font-family: monospace;font-weight: bold;display: inline-block;line-height: 1.2em;}#sk-container-id-5 div.sk-label-container {text-align: center;}#sk-container-id-5 div.sk-container {/* jupyter's `normalize.less` sets `[hidden] { display: none; }` but bootstrap.min.css set `[hidden] { display: none !important; }` so we also need the `!important` here to be able to override the default hidden behavior on the sphinx rendered scikit-learn.org. See: https://github.com/scikit-learn/scikit-learn/issues/21755 */display: inline-block !important;position: relative;}#sk-container-id-5 div.sk-text-repr-fallback {display: none;}</style><div id=\"sk-container-id-5\" class=\"sk-top-container\"><div class=\"sk-text-repr-fallback\"><pre>DecisionTreeClassifier()</pre><b>In a Jupyter environment, please rerun this cell to show the HTML representation or trust the notebook. <br />On GitHub, the HTML representation is unable to render, please try loading this page with nbviewer.org.</b></div><div class=\"sk-container\" hidden><div class=\"sk-item\"><div class=\"sk-estimator sk-toggleable\"><input class=\"sk-toggleable__control sk-hidden--visually\" id=\"sk-estimator-id-5\" type=\"checkbox\" checked><label for=\"sk-estimator-id-5\" class=\"sk-toggleable__label sk-toggleable__label-arrow\">DecisionTreeClassifier</label><div class=\"sk-toggleable__content\"><pre>DecisionTreeClassifier()</pre></div></div></div></div></div>"
      ]
     },
     "execution_count": 25,
     "metadata": {},
     "output_type": "execute_result"
    }
   ],
   "execution_count": 25
  },
  {
   "metadata": {
    "ExecuteTime": {
     "end_time": "2024-05-21T23:41:30.058157Z",
     "start_time": "2024-05-21T23:41:29.861812Z"
    }
   },
   "cell_type": "code",
   "source": [
    "# Forecasts and evaluation\n",
    "y_pred_dt = dt_model.predict(X_test)\n",
    "print(\"Decision Tree Performance:\")\n",
    "print(confusion_matrix(y_test, y_pred_dt))\n",
    "print(classification_report(y_test, y_pred_dt))\n",
    "print(\"Accuracy:\", accuracy_score(y_test, y_pred_dt))"
   ],
   "outputs": [
    {
     "name": "stdout",
     "output_type": "stream",
     "text": [
      "Decision Tree Performance:\n",
      "[[ 9971    53]\n",
      " [   66 89910]]\n",
      "              precision    recall  f1-score   support\n",
      "\n",
      "           0       0.99      0.99      0.99     10024\n",
      "           1       1.00      1.00      1.00     89976\n",
      "\n",
      "    accuracy                           1.00    100000\n",
      "   macro avg       1.00      1.00      1.00    100000\n",
      "weighted avg       1.00      1.00      1.00    100000\n",
      "\n",
      "Accuracy: 0.99881\n"
     ]
    }
   ],
   "execution_count": 26
  },
  {
   "metadata": {},
   "cell_type": "markdown",
   "source": "### K-Nearest Neighbors (K-NN)"
  },
  {
   "metadata": {
    "ExecuteTime": {
     "end_time": "2024-05-21T23:41:30.134412Z",
     "start_time": "2024-05-21T23:41:30.061362Z"
    }
   },
   "cell_type": "code",
   "source": [
    "from sklearn.neighbors import KNeighborsClassifier\n",
    "\n",
    "# Initialising and training the model\n",
    "knn_model = KNeighborsClassifier(n_neighbors=5)\n",
    "knn_model.fit(X_train, y_train)"
   ],
   "outputs": [
    {
     "data": {
      "text/plain": [
       "KNeighborsClassifier()"
      ],
      "text/html": [
       "<style>#sk-container-id-6 {color: black;background-color: white;}#sk-container-id-6 pre{padding: 0;}#sk-container-id-6 div.sk-toggleable {background-color: white;}#sk-container-id-6 label.sk-toggleable__label {cursor: pointer;display: block;width: 100%;margin-bottom: 0;padding: 0.3em;box-sizing: border-box;text-align: center;}#sk-container-id-6 label.sk-toggleable__label-arrow:before {content: \"▸\";float: left;margin-right: 0.25em;color: #696969;}#sk-container-id-6 label.sk-toggleable__label-arrow:hover:before {color: black;}#sk-container-id-6 div.sk-estimator:hover label.sk-toggleable__label-arrow:before {color: black;}#sk-container-id-6 div.sk-toggleable__content {max-height: 0;max-width: 0;overflow: hidden;text-align: left;background-color: #f0f8ff;}#sk-container-id-6 div.sk-toggleable__content pre {margin: 0.2em;color: black;border-radius: 0.25em;background-color: #f0f8ff;}#sk-container-id-6 input.sk-toggleable__control:checked~div.sk-toggleable__content {max-height: 200px;max-width: 100%;overflow: auto;}#sk-container-id-6 input.sk-toggleable__control:checked~label.sk-toggleable__label-arrow:before {content: \"▾\";}#sk-container-id-6 div.sk-estimator input.sk-toggleable__control:checked~label.sk-toggleable__label {background-color: #d4ebff;}#sk-container-id-6 div.sk-label input.sk-toggleable__control:checked~label.sk-toggleable__label {background-color: #d4ebff;}#sk-container-id-6 input.sk-hidden--visually {border: 0;clip: rect(1px 1px 1px 1px);clip: rect(1px, 1px, 1px, 1px);height: 1px;margin: -1px;overflow: hidden;padding: 0;position: absolute;width: 1px;}#sk-container-id-6 div.sk-estimator {font-family: monospace;background-color: #f0f8ff;border: 1px dotted black;border-radius: 0.25em;box-sizing: border-box;margin-bottom: 0.5em;}#sk-container-id-6 div.sk-estimator:hover {background-color: #d4ebff;}#sk-container-id-6 div.sk-parallel-item::after {content: \"\";width: 100%;border-bottom: 1px solid gray;flex-grow: 1;}#sk-container-id-6 div.sk-label:hover label.sk-toggleable__label {background-color: #d4ebff;}#sk-container-id-6 div.sk-serial::before {content: \"\";position: absolute;border-left: 1px solid gray;box-sizing: border-box;top: 0;bottom: 0;left: 50%;z-index: 0;}#sk-container-id-6 div.sk-serial {display: flex;flex-direction: column;align-items: center;background-color: white;padding-right: 0.2em;padding-left: 0.2em;position: relative;}#sk-container-id-6 div.sk-item {position: relative;z-index: 1;}#sk-container-id-6 div.sk-parallel {display: flex;align-items: stretch;justify-content: center;background-color: white;position: relative;}#sk-container-id-6 div.sk-item::before, #sk-container-id-6 div.sk-parallel-item::before {content: \"\";position: absolute;border-left: 1px solid gray;box-sizing: border-box;top: 0;bottom: 0;left: 50%;z-index: -1;}#sk-container-id-6 div.sk-parallel-item {display: flex;flex-direction: column;z-index: 1;position: relative;background-color: white;}#sk-container-id-6 div.sk-parallel-item:first-child::after {align-self: flex-end;width: 50%;}#sk-container-id-6 div.sk-parallel-item:last-child::after {align-self: flex-start;width: 50%;}#sk-container-id-6 div.sk-parallel-item:only-child::after {width: 0;}#sk-container-id-6 div.sk-dashed-wrapped {border: 1px dashed gray;margin: 0 0.4em 0.5em 0.4em;box-sizing: border-box;padding-bottom: 0.4em;background-color: white;}#sk-container-id-6 div.sk-label label {font-family: monospace;font-weight: bold;display: inline-block;line-height: 1.2em;}#sk-container-id-6 div.sk-label-container {text-align: center;}#sk-container-id-6 div.sk-container {/* jupyter's `normalize.less` sets `[hidden] { display: none; }` but bootstrap.min.css set `[hidden] { display: none !important; }` so we also need the `!important` here to be able to override the default hidden behavior on the sphinx rendered scikit-learn.org. See: https://github.com/scikit-learn/scikit-learn/issues/21755 */display: inline-block !important;position: relative;}#sk-container-id-6 div.sk-text-repr-fallback {display: none;}</style><div id=\"sk-container-id-6\" class=\"sk-top-container\"><div class=\"sk-text-repr-fallback\"><pre>KNeighborsClassifier()</pre><b>In a Jupyter environment, please rerun this cell to show the HTML representation or trust the notebook. <br />On GitHub, the HTML representation is unable to render, please try loading this page with nbviewer.org.</b></div><div class=\"sk-container\" hidden><div class=\"sk-item\"><div class=\"sk-estimator sk-toggleable\"><input class=\"sk-toggleable__control sk-hidden--visually\" id=\"sk-estimator-id-6\" type=\"checkbox\" checked><label for=\"sk-estimator-id-6\" class=\"sk-toggleable__label sk-toggleable__label-arrow\">KNeighborsClassifier</label><div class=\"sk-toggleable__content\"><pre>KNeighborsClassifier()</pre></div></div></div></div></div>"
      ]
     },
     "execution_count": 27,
     "metadata": {},
     "output_type": "execute_result"
    }
   ],
   "execution_count": 27
  },
  {
   "metadata": {
    "ExecuteTime": {
     "end_time": "2024-05-21T23:41:55.482523Z",
     "start_time": "2024-05-21T23:41:30.138430Z"
    }
   },
   "cell_type": "code",
   "source": [
    "# Forecasts and evaluation\n",
    "y_pred_knn = knn_model.predict(X_test)\n",
    "print(\"K-NN Performance:\")\n",
    "print(confusion_matrix(y_test, y_pred_knn))\n",
    "print(classification_report(y_test, y_pred_knn))\n",
    "print(\"Accuracy:\", accuracy_score(y_test, y_pred_knn))"
   ],
   "outputs": [
    {
     "name": "stdout",
     "output_type": "stream",
     "text": [
      "K-NN Performance:\n",
      "[[ 9901   123]\n",
      " [  174 89802]]\n",
      "              precision    recall  f1-score   support\n",
      "\n",
      "           0       0.98      0.99      0.99     10024\n",
      "           1       1.00      1.00      1.00     89976\n",
      "\n",
      "    accuracy                           1.00    100000\n",
      "   macro avg       0.99      0.99      0.99    100000\n",
      "weighted avg       1.00      1.00      1.00    100000\n",
      "\n",
      "Accuracy: 0.99703\n"
     ]
    }
   ],
   "execution_count": 28
  },
  {
   "metadata": {},
   "cell_type": "markdown",
   "source": "### Support Vector Machine (SVM)"
  },
  {
   "metadata": {
    "ExecuteTime": {
     "end_time": "2024-05-21T23:45:32.482377Z",
     "start_time": "2024-05-21T23:41:55.484543Z"
    }
   },
   "cell_type": "code",
   "source": [
    "from sklearn.svm import SVC\n",
    "\n",
    "# Initialising and training the model\n",
    "svm_model = SVC()\n",
    "svm_model.fit(X_train, y_train)"
   ],
   "outputs": [
    {
     "data": {
      "text/plain": [
       "SVC()"
      ],
      "text/html": [
       "<style>#sk-container-id-7 {color: black;background-color: white;}#sk-container-id-7 pre{padding: 0;}#sk-container-id-7 div.sk-toggleable {background-color: white;}#sk-container-id-7 label.sk-toggleable__label {cursor: pointer;display: block;width: 100%;margin-bottom: 0;padding: 0.3em;box-sizing: border-box;text-align: center;}#sk-container-id-7 label.sk-toggleable__label-arrow:before {content: \"▸\";float: left;margin-right: 0.25em;color: #696969;}#sk-container-id-7 label.sk-toggleable__label-arrow:hover:before {color: black;}#sk-container-id-7 div.sk-estimator:hover label.sk-toggleable__label-arrow:before {color: black;}#sk-container-id-7 div.sk-toggleable__content {max-height: 0;max-width: 0;overflow: hidden;text-align: left;background-color: #f0f8ff;}#sk-container-id-7 div.sk-toggleable__content pre {margin: 0.2em;color: black;border-radius: 0.25em;background-color: #f0f8ff;}#sk-container-id-7 input.sk-toggleable__control:checked~div.sk-toggleable__content {max-height: 200px;max-width: 100%;overflow: auto;}#sk-container-id-7 input.sk-toggleable__control:checked~label.sk-toggleable__label-arrow:before {content: \"▾\";}#sk-container-id-7 div.sk-estimator input.sk-toggleable__control:checked~label.sk-toggleable__label {background-color: #d4ebff;}#sk-container-id-7 div.sk-label input.sk-toggleable__control:checked~label.sk-toggleable__label {background-color: #d4ebff;}#sk-container-id-7 input.sk-hidden--visually {border: 0;clip: rect(1px 1px 1px 1px);clip: rect(1px, 1px, 1px, 1px);height: 1px;margin: -1px;overflow: hidden;padding: 0;position: absolute;width: 1px;}#sk-container-id-7 div.sk-estimator {font-family: monospace;background-color: #f0f8ff;border: 1px dotted black;border-radius: 0.25em;box-sizing: border-box;margin-bottom: 0.5em;}#sk-container-id-7 div.sk-estimator:hover {background-color: #d4ebff;}#sk-container-id-7 div.sk-parallel-item::after {content: \"\";width: 100%;border-bottom: 1px solid gray;flex-grow: 1;}#sk-container-id-7 div.sk-label:hover label.sk-toggleable__label {background-color: #d4ebff;}#sk-container-id-7 div.sk-serial::before {content: \"\";position: absolute;border-left: 1px solid gray;box-sizing: border-box;top: 0;bottom: 0;left: 50%;z-index: 0;}#sk-container-id-7 div.sk-serial {display: flex;flex-direction: column;align-items: center;background-color: white;padding-right: 0.2em;padding-left: 0.2em;position: relative;}#sk-container-id-7 div.sk-item {position: relative;z-index: 1;}#sk-container-id-7 div.sk-parallel {display: flex;align-items: stretch;justify-content: center;background-color: white;position: relative;}#sk-container-id-7 div.sk-item::before, #sk-container-id-7 div.sk-parallel-item::before {content: \"\";position: absolute;border-left: 1px solid gray;box-sizing: border-box;top: 0;bottom: 0;left: 50%;z-index: -1;}#sk-container-id-7 div.sk-parallel-item {display: flex;flex-direction: column;z-index: 1;position: relative;background-color: white;}#sk-container-id-7 div.sk-parallel-item:first-child::after {align-self: flex-end;width: 50%;}#sk-container-id-7 div.sk-parallel-item:last-child::after {align-self: flex-start;width: 50%;}#sk-container-id-7 div.sk-parallel-item:only-child::after {width: 0;}#sk-container-id-7 div.sk-dashed-wrapped {border: 1px dashed gray;margin: 0 0.4em 0.5em 0.4em;box-sizing: border-box;padding-bottom: 0.4em;background-color: white;}#sk-container-id-7 div.sk-label label {font-family: monospace;font-weight: bold;display: inline-block;line-height: 1.2em;}#sk-container-id-7 div.sk-label-container {text-align: center;}#sk-container-id-7 div.sk-container {/* jupyter's `normalize.less` sets `[hidden] { display: none; }` but bootstrap.min.css set `[hidden] { display: none !important; }` so we also need the `!important` here to be able to override the default hidden behavior on the sphinx rendered scikit-learn.org. See: https://github.com/scikit-learn/scikit-learn/issues/21755 */display: inline-block !important;position: relative;}#sk-container-id-7 div.sk-text-repr-fallback {display: none;}</style><div id=\"sk-container-id-7\" class=\"sk-top-container\"><div class=\"sk-text-repr-fallback\"><pre>SVC()</pre><b>In a Jupyter environment, please rerun this cell to show the HTML representation or trust the notebook. <br />On GitHub, the HTML representation is unable to render, please try loading this page with nbviewer.org.</b></div><div class=\"sk-container\" hidden><div class=\"sk-item\"><div class=\"sk-estimator sk-toggleable\"><input class=\"sk-toggleable__control sk-hidden--visually\" id=\"sk-estimator-id-7\" type=\"checkbox\" checked><label for=\"sk-estimator-id-7\" class=\"sk-toggleable__label sk-toggleable__label-arrow\">SVC</label><div class=\"sk-toggleable__content\"><pre>SVC()</pre></div></div></div></div></div>"
      ]
     },
     "execution_count": 29,
     "metadata": {},
     "output_type": "execute_result"
    }
   ],
   "execution_count": 29
  },
  {
   "metadata": {
    "ExecuteTime": {
     "end_time": "2024-05-21T23:46:25.536375Z",
     "start_time": "2024-05-21T23:45:32.484388Z"
    }
   },
   "cell_type": "code",
   "source": [
    "# Forecasts and evaluation\n",
    "y_pred_svm = svm_model.predict(X_test)\n",
    "print(\"SVM Performance:\")\n",
    "print(confusion_matrix(y_test, y_pred_svm))\n",
    "print(classification_report(y_test, y_pred_svm))\n",
    "print(\"Accuracy:\", accuracy_score(y_test, y_pred_svm))"
   ],
   "outputs": [
    {
     "name": "stdout",
     "output_type": "stream",
     "text": [
      "SVM Performance:\n",
      "[[ 9739   285]\n",
      " [   66 89910]]\n",
      "              precision    recall  f1-score   support\n",
      "\n",
      "           0       0.99      0.97      0.98     10024\n",
      "           1       1.00      1.00      1.00     89976\n",
      "\n",
      "    accuracy                           1.00    100000\n",
      "   macro avg       1.00      0.99      0.99    100000\n",
      "weighted avg       1.00      1.00      1.00    100000\n",
      "\n",
      "Accuracy: 0.99649\n"
     ]
    }
   ],
   "execution_count": 30
  },
  {
   "metadata": {},
   "cell_type": "markdown",
   "source": "### Neural Network (MLPClassifier)"
  },
  {
   "metadata": {
    "ExecuteTime": {
     "end_time": "2024-05-21T23:47:00.962585Z",
     "start_time": "2024-05-21T23:46:25.538384Z"
    }
   },
   "cell_type": "code",
   "source": [
    "from sklearn.neural_network import MLPClassifier\n",
    "\n",
    "# Initialising and training the model\n",
    "mlp_model = MLPClassifier(max_iter=1000)\n",
    "mlp_model.fit(X_train, y_train)"
   ],
   "outputs": [
    {
     "data": {
      "text/plain": [
       "MLPClassifier(max_iter=1000)"
      ],
      "text/html": [
       "<style>#sk-container-id-8 {color: black;background-color: white;}#sk-container-id-8 pre{padding: 0;}#sk-container-id-8 div.sk-toggleable {background-color: white;}#sk-container-id-8 label.sk-toggleable__label {cursor: pointer;display: block;width: 100%;margin-bottom: 0;padding: 0.3em;box-sizing: border-box;text-align: center;}#sk-container-id-8 label.sk-toggleable__label-arrow:before {content: \"▸\";float: left;margin-right: 0.25em;color: #696969;}#sk-container-id-8 label.sk-toggleable__label-arrow:hover:before {color: black;}#sk-container-id-8 div.sk-estimator:hover label.sk-toggleable__label-arrow:before {color: black;}#sk-container-id-8 div.sk-toggleable__content {max-height: 0;max-width: 0;overflow: hidden;text-align: left;background-color: #f0f8ff;}#sk-container-id-8 div.sk-toggleable__content pre {margin: 0.2em;color: black;border-radius: 0.25em;background-color: #f0f8ff;}#sk-container-id-8 input.sk-toggleable__control:checked~div.sk-toggleable__content {max-height: 200px;max-width: 100%;overflow: auto;}#sk-container-id-8 input.sk-toggleable__control:checked~label.sk-toggleable__label-arrow:before {content: \"▾\";}#sk-container-id-8 div.sk-estimator input.sk-toggleable__control:checked~label.sk-toggleable__label {background-color: #d4ebff;}#sk-container-id-8 div.sk-label input.sk-toggleable__control:checked~label.sk-toggleable__label {background-color: #d4ebff;}#sk-container-id-8 input.sk-hidden--visually {border: 0;clip: rect(1px 1px 1px 1px);clip: rect(1px, 1px, 1px, 1px);height: 1px;margin: -1px;overflow: hidden;padding: 0;position: absolute;width: 1px;}#sk-container-id-8 div.sk-estimator {font-family: monospace;background-color: #f0f8ff;border: 1px dotted black;border-radius: 0.25em;box-sizing: border-box;margin-bottom: 0.5em;}#sk-container-id-8 div.sk-estimator:hover {background-color: #d4ebff;}#sk-container-id-8 div.sk-parallel-item::after {content: \"\";width: 100%;border-bottom: 1px solid gray;flex-grow: 1;}#sk-container-id-8 div.sk-label:hover label.sk-toggleable__label {background-color: #d4ebff;}#sk-container-id-8 div.sk-serial::before {content: \"\";position: absolute;border-left: 1px solid gray;box-sizing: border-box;top: 0;bottom: 0;left: 50%;z-index: 0;}#sk-container-id-8 div.sk-serial {display: flex;flex-direction: column;align-items: center;background-color: white;padding-right: 0.2em;padding-left: 0.2em;position: relative;}#sk-container-id-8 div.sk-item {position: relative;z-index: 1;}#sk-container-id-8 div.sk-parallel {display: flex;align-items: stretch;justify-content: center;background-color: white;position: relative;}#sk-container-id-8 div.sk-item::before, #sk-container-id-8 div.sk-parallel-item::before {content: \"\";position: absolute;border-left: 1px solid gray;box-sizing: border-box;top: 0;bottom: 0;left: 50%;z-index: -1;}#sk-container-id-8 div.sk-parallel-item {display: flex;flex-direction: column;z-index: 1;position: relative;background-color: white;}#sk-container-id-8 div.sk-parallel-item:first-child::after {align-self: flex-end;width: 50%;}#sk-container-id-8 div.sk-parallel-item:last-child::after {align-self: flex-start;width: 50%;}#sk-container-id-8 div.sk-parallel-item:only-child::after {width: 0;}#sk-container-id-8 div.sk-dashed-wrapped {border: 1px dashed gray;margin: 0 0.4em 0.5em 0.4em;box-sizing: border-box;padding-bottom: 0.4em;background-color: white;}#sk-container-id-8 div.sk-label label {font-family: monospace;font-weight: bold;display: inline-block;line-height: 1.2em;}#sk-container-id-8 div.sk-label-container {text-align: center;}#sk-container-id-8 div.sk-container {/* jupyter's `normalize.less` sets `[hidden] { display: none; }` but bootstrap.min.css set `[hidden] { display: none !important; }` so we also need the `!important` here to be able to override the default hidden behavior on the sphinx rendered scikit-learn.org. See: https://github.com/scikit-learn/scikit-learn/issues/21755 */display: inline-block !important;position: relative;}#sk-container-id-8 div.sk-text-repr-fallback {display: none;}</style><div id=\"sk-container-id-8\" class=\"sk-top-container\"><div class=\"sk-text-repr-fallback\"><pre>MLPClassifier(max_iter=1000)</pre><b>In a Jupyter environment, please rerun this cell to show the HTML representation or trust the notebook. <br />On GitHub, the HTML representation is unable to render, please try loading this page with nbviewer.org.</b></div><div class=\"sk-container\" hidden><div class=\"sk-item\"><div class=\"sk-estimator sk-toggleable\"><input class=\"sk-toggleable__control sk-hidden--visually\" id=\"sk-estimator-id-8\" type=\"checkbox\" checked><label for=\"sk-estimator-id-8\" class=\"sk-toggleable__label sk-toggleable__label-arrow\">MLPClassifier</label><div class=\"sk-toggleable__content\"><pre>MLPClassifier(max_iter=1000)</pre></div></div></div></div></div>"
      ]
     },
     "execution_count": 31,
     "metadata": {},
     "output_type": "execute_result"
    }
   ],
   "execution_count": 31
  },
  {
   "metadata": {
    "ExecuteTime": {
     "end_time": "2024-05-21T23:47:01.223126Z",
     "start_time": "2024-05-21T23:47:00.963598Z"
    }
   },
   "cell_type": "code",
   "source": [
    "# Forecasts and evaluation\n",
    "y_pred_mlp = mlp_model.predict(X_test)\n",
    "print(\"Neural Network Performance:\")\n",
    "print(confusion_matrix(y_test, y_pred_mlp))\n",
    "print(classification_report(y_test, y_pred_mlp))\n",
    "print(\"Accuracy:\", accuracy_score(y_test, y_pred_mlp))"
   ],
   "outputs": [
    {
     "name": "stdout",
     "output_type": "stream",
     "text": [
      "Neural Network Performance:\n",
      "[[ 9734   290]\n",
      " [   69 89907]]\n",
      "              precision    recall  f1-score   support\n",
      "\n",
      "           0       0.99      0.97      0.98     10024\n",
      "           1       1.00      1.00      1.00     89976\n",
      "\n",
      "    accuracy                           1.00    100000\n",
      "   macro avg       0.99      0.99      0.99    100000\n",
      "weighted avg       1.00      1.00      1.00    100000\n",
      "\n",
      "Accuracy: 0.99641\n"
     ]
    }
   ],
   "execution_count": 32
  },
  {
   "metadata": {},
   "cell_type": "markdown",
   "source": "## Comparison of results"
  },
  {
   "metadata": {
    "ExecuteTime": {
     "end_time": "2024-05-22T00:24:50.244647Z",
     "start_time": "2024-05-22T00:24:49.646830Z"
    }
   },
   "cell_type": "code",
   "source": [
    "# Function to collect performance metrics\n",
    "def collect_metrics(model_name, y_true, y_pred):\n",
    "\n",
    "    # model_name (str): Name of the model.\n",
    "    # y_true (array): True labels.\n",
    "    # y_pred (array): Predicted labels.\n",
    "\n",
    "    metrics[\"Model\"].append(model_name)\n",
    "    metrics[\"Accuracy\"].append(accuracy_score(y_true, y_pred))\n",
    "    report = classification_report(y_true, y_pred, output_dict=True)\n",
    "    metrics[\"Precision\"].append(report['weighted avg']['precision'])\n",
    "    metrics[\"Recall\"].append(report['weighted avg']['recall'])\n",
    "    metrics[\"F1-Score\"].append(report['weighted avg']['f1-score'])\n",
    "\n",
    "# Dictionary to store the metrics\n",
    "metrics = {\n",
    "    \"Model\": [],\n",
    "    \"Accuracy\": [],\n",
    "    \"Precision\": [],\n",
    "    \"Recall\": [],\n",
    "    \"F1-Score\": []\n",
    "}\n",
    "\n",
    "# Collecting metrics for each model\n",
    "collect_metrics(\"Decision Tree\", y_test, y_pred_dt)\n",
    "collect_metrics(\"K-NN\", y_test, y_pred_knn)\n",
    "collect_metrics(\"SVM\", y_test, y_pred_svm)\n",
    "collect_metrics(\"Neural Network\", y_test, y_pred_mlp)\n",
    "\n",
    "# Creating a DataFrame for easy visualization\n",
    "df_metrics = pd.DataFrame(metrics)\n",
    "print(df_metrics)"
   ],
   "outputs": [
    {
     "name": "stdout",
     "output_type": "stream",
     "text": [
      "            Model  Accuracy  Precision   Recall  F1-Score\n",
      "0   Decision Tree   0.99881   0.998811  0.99881  0.998810\n",
      "1            K-NN   0.99703   0.997038  0.99703  0.997033\n",
      "2             SVM   0.99649   0.996482  0.99649  0.996473\n",
      "3  Neural Network   0.99641   0.996402  0.99641  0.996392\n"
     ]
    }
   ],
   "execution_count": 39
  },
  {
   "metadata": {},
   "cell_type": "markdown",
   "source": [
    "## Results Analysis\n",
    "\n",
    "\n",
    "Based on the results presented in the table, we can observe the following:\n",
    "\n",
    "\n",
    "- Decision Tree achieved the highest accuracy, precision, recall, and F1-score among the models tested, with values of 99.88% across all metrics. This indicates that the Decision Tree model has a slightly superior performance in terms of correctly classifying examples.\n",
    "\n",
    "\n",
    "- K-Nearest Neighbors (K-NN) also demonstrated very good performance, with an accuracy of 99.70% and metrics for precision, recall, and F1-score very close to the values of the Decision Tree. This suggests that K-NN is effective at correctly classifying the data.\n",
    "\n",
    "\n",
    "- Support Vector Machine (SVM) had an accuracy of 99.65%, which is slightly lower than K-NN and Decision Tree but still very high. The precision, recall, and F1-score metrics also reflect a good overall performance.\n",
    "\n",
    "\n",
    "- Neural Network presented an accuracy of 99.64%, which is slightly lower compared to the other models. However, the precision, recall, and F1-score metrics indicate that the neural network is also a competent model for the classification task.\n",
    "\n",
    "\n",
    "In conclusion, although all models demonstrated very good performance, the Decision Tree stood out as the best model for this specific dataset. This might be due to its ability to capture complex interactions between features without much parameter tuning."
   ]
  },
  {
   "cell_type": "markdown",
   "metadata": {},
   "source": [
    "## Tools used\n",
    "\n",
    "**Python**: For all back-end algorithms and data manipulation.\n",
    "\n",
    "**Scikit-Learn**: Machine learning library for implementing various classification algorithms and data pre-processing.\n",
    "\n",
    "**Pandas**: Data structures and data analysis tools for reading and manipulating data.\n",
    "\n",
    "**NumPy**: Numerical computing with support for large, multi-dimensional arrays and matrices.\n",
    "\n",
    "**Matplotlib/Seaborn**: Plotting libraries for visualizing the dataset and results.\n",
    "\n",
    "**Jupyter Notebook / DataSpell**: Interactive computing environments where the project is being developed and documented."
   ]
  },
  {
   "cell_type": "markdown",
   "metadata": {},
   "source": [
    "## Approach\n",
    "\n",
    "**Data Acquisition**: The dataset comprising evasive PDF samples was sourced and loaded for analysis.\n",
    "\n",
    "**Exploratory Data Analysis (EDA)**: Conducted an initial exploration to understand data characteristics, including the distribution of features and checking for missing values.\n",
    "\n",
    "**Data Preprocessing**: Normalized data using StandardScaler to ensure feature scaling and variance homogeneity.\n",
    "\n",
    "**Data Splitting**: Segregated the dataset into training (80%) and test (20%) sets to prepare for unbiased model evaluation.\n",
    "\n",
    "**Model Training and Evaluation**: Each model was trained with the training set and evaluated with the test set using metrics of accuracy, precision, recall, and F1-score.\n",
    "\n",
    "**Comparison of Results**: Performance metrics of the different models were compared using a table.\n",
    "\n",
    "**Results Analysis**: Interpreted the results based on the performance metrics of each model."
   ]
  }
 ],
 "metadata": {
  "kernelspec": {
   "display_name": "Python 3",
   "language": "python",
   "name": "python3"
  },
  "language_info": {
   "codemirror_mode": {
    "name": "ipython",
    "version": 3
   },
   "file_extension": ".py",
   "mimetype": "text/x-python",
   "name": "python",
   "nbconvert_exporter": "python",
   "pygments_lexer": "ipython3",
   "version": "3.10.12"
  }
 },
 "nbformat": 4,
 "nbformat_minor": 2
}
